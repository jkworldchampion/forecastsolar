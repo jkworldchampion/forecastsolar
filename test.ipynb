{
 "metadata": {
  "language_info": {
   "codemirror_mode": {
    "name": "ipython",
    "version": 3
   },
   "file_extension": ".py",
   "mimetype": "text/x-python",
   "name": "python",
   "nbconvert_exporter": "python",
   "pygments_lexer": "ipython3",
   "version": "3.9.2"
  },
  "orig_nbformat": 2,
  "kernelspec": {
   "name": "python392jvsc74a57bd05e640c9e7c6b3f4e87cefdeaba5bbd470477d2ac88b057606e0b184b5664f2cf",
   "display_name": "Python 3.9.2 64-bit ('sklearn-env': conda)"
  },
  "metadata": {
   "interpreter": {
    "hash": "5e640c9e7c6b3f4e87cefdeaba5bbd470477d2ac88b057606e0b184b5664f2cf"
   }
  }
 },
 "nbformat": 4,
 "nbformat_minor": 2,
 "cells": [
  {
   "cell_type": "code",
   "execution_count": 1,
   "metadata": {},
   "outputs": [],
   "source": [
    "import pandas as pd\n",
    "import numpy as np\n",
    "import matplotlib.pyplot as plt\n",
    "import lightgbm as lgb"
   ]
  },
  {
   "cell_type": "code",
   "execution_count": 2,
   "metadata": {},
   "outputs": [],
   "source": [
    "energy = pd.read_csv('https://raw.githubusercontent.com/cjfghk5697/forecastsolar/main/csv%20file/energy.csv')\n",
    "dangjin_fcst = pd.read_csv('https://raw.githubusercontent.com/cjfghk5697/forecastsolar/main/csv%20file/dangjin_fcst_data.csv')\n",
    "ulsan_fcst = pd.read_csv('https://raw.githubusercontent.com/cjfghk5697/forecastsolar/main/csv%20file/ulsan_fcst_data.csv')"
   ]
  },
  {
   "cell_type": "code",
   "execution_count": 7,
   "metadata": {},
   "outputs": [],
   "source": [
    "#날짜 데이터로 변환\n",
    "dangjin_fcst['Forecast_time'] = pd.to_datetime(dangjin_fcst['Forecast time'])\n",
    "ulsan_fcst['Forecast_time'] = pd.to_datetime(ulsan_fcst['Forecast time'])"
   ]
  },
  {
   "cell_type": "code",
   "execution_count": 4,
   "metadata": {},
   "outputs": [],
   "source": [
    "#예측 데이터 중 14시 데이터 가져옴\n",
    "dangjin_fcst_14 = dangjin_fcst[dangjin_fcst['Forecast_time'].dt.hour==14]\n",
    "ulsan_fcst_14 = ulsan_fcst[ulsan_fcst['Forecast_time'].dt.hour==14]"
   ]
  },
  {
   "cell_type": "code",
   "execution_count": 5,
   "metadata": {},
   "outputs": [],
   "source": [
    "#예측시간이 10~33시 가져옴\n",
    "dangjin_fcst_14 = dangjin_fcst_14[(dangjin_fcst_14['forecast']>=10)&(dangjin_fcst_14['forecast']<=33)]\n",
    "ulsan_fcst_14 = ulsan_fcst_14[(ulsan_fcst_14['forecast']>=10)&(ulsan_fcst_14['forecast']<=33)]"
   ]
  },
  {
   "cell_type": "code",
   "execution_count": 6,
   "metadata": {},
   "outputs": [
    {
     "output_type": "stream",
     "name": "stderr",
     "text": [
      "/opt/conda/envs/sklearn-env/lib/python3.9/site-packages/pandas/core/arrays/datetimelike.py:1108: PerformanceWarning: Adding/subtracting object-dtype array to DatetimeArray not vectorized\n  warnings.warn(\n"
     ]
    }
   ],
   "source": [
    "#시간 더함.\n",
    "def to_date(x):\n",
    "    return pd.DateOffset(hours=x)\n",
    "\n",
    "dangjin_fcst_14['Forecast_time'] = dangjin_fcst_14['Forecast_time'] + dangjin_fcst_14['forecast'].map(to_date)\n",
    "ulsan_fcst_14['Forecast_time'] = ulsan_fcst_14['Forecast_time'] + ulsan_fcst_14['forecast'].map(to_date)"
   ]
  },
  {
   "cell_type": "code",
   "execution_count": 8,
   "metadata": {},
   "outputs": [
    {
     "output_type": "execute_result",
     "data": {
      "text/plain": [
       "           Forecast time  forecast  Temperature  Humidity  WindSpeed  \\\n",
       "22   2018-03-01 14:00:00      10.0         -2.0      55.0        6.7   \n",
       "23   2018-03-01 14:00:00      13.0         -4.0      55.0        5.5   \n",
       "24   2018-03-01 14:00:00      16.0         -5.0      60.0        4.3   \n",
       "25   2018-03-01 14:00:00      19.0         -2.0      55.0        2.0   \n",
       "26   2018-03-01 14:00:00      22.0          1.0      45.0        0.8   \n",
       "27   2018-03-01 14:00:00      25.0          3.0      50.0        2.3   \n",
       "28   2018-03-01 14:00:00      28.0          1.0      55.0        1.9   \n",
       "29   2018-03-01 14:00:00      31.0         -1.0      70.0        1.6   \n",
       "170  2018-03-02 14:00:00      10.0         -2.0      80.0        2.4   \n",
       "171  2018-03-02 14:00:00      13.0         -2.0      75.0        2.9   \n",
       "\n",
       "     WindDirection  Cloud       Forecast_time  \n",
       "22           336.0    1.0 2018-03-02 00:00:00  \n",
       "23           339.0    1.0 2018-03-02 03:00:00  \n",
       "24           344.0    1.0 2018-03-02 06:00:00  \n",
       "25           345.0    1.0 2018-03-02 09:00:00  \n",
       "26           256.0    1.0 2018-03-02 12:00:00  \n",
       "27           270.0    1.0 2018-03-02 15:00:00  \n",
       "28           264.0    1.0 2018-03-02 18:00:00  \n",
       "29            68.0    1.0 2018-03-02 21:00:00  \n",
       "170           90.0    2.0 2018-03-03 00:00:00  \n",
       "171          125.0    2.0 2018-03-03 03:00:00  "
      ],
      "text/html": "<div>\n<style scoped>\n    .dataframe tbody tr th:only-of-type {\n        vertical-align: middle;\n    }\n\n    .dataframe tbody tr th {\n        vertical-align: top;\n    }\n\n    .dataframe thead th {\n        text-align: right;\n    }\n</style>\n<table border=\"1\" class=\"dataframe\">\n  <thead>\n    <tr style=\"text-align: right;\">\n      <th></th>\n      <th>Forecast time</th>\n      <th>forecast</th>\n      <th>Temperature</th>\n      <th>Humidity</th>\n      <th>WindSpeed</th>\n      <th>WindDirection</th>\n      <th>Cloud</th>\n      <th>Forecast_time</th>\n    </tr>\n  </thead>\n  <tbody>\n    <tr>\n      <th>22</th>\n      <td>2018-03-01 14:00:00</td>\n      <td>10.0</td>\n      <td>-2.0</td>\n      <td>55.0</td>\n      <td>6.7</td>\n      <td>336.0</td>\n      <td>1.0</td>\n      <td>2018-03-02 00:00:00</td>\n    </tr>\n    <tr>\n      <th>23</th>\n      <td>2018-03-01 14:00:00</td>\n      <td>13.0</td>\n      <td>-4.0</td>\n      <td>55.0</td>\n      <td>5.5</td>\n      <td>339.0</td>\n      <td>1.0</td>\n      <td>2018-03-02 03:00:00</td>\n    </tr>\n    <tr>\n      <th>24</th>\n      <td>2018-03-01 14:00:00</td>\n      <td>16.0</td>\n      <td>-5.0</td>\n      <td>60.0</td>\n      <td>4.3</td>\n      <td>344.0</td>\n      <td>1.0</td>\n      <td>2018-03-02 06:00:00</td>\n    </tr>\n    <tr>\n      <th>25</th>\n      <td>2018-03-01 14:00:00</td>\n      <td>19.0</td>\n      <td>-2.0</td>\n      <td>55.0</td>\n      <td>2.0</td>\n      <td>345.0</td>\n      <td>1.0</td>\n      <td>2018-03-02 09:00:00</td>\n    </tr>\n    <tr>\n      <th>26</th>\n      <td>2018-03-01 14:00:00</td>\n      <td>22.0</td>\n      <td>1.0</td>\n      <td>45.0</td>\n      <td>0.8</td>\n      <td>256.0</td>\n      <td>1.0</td>\n      <td>2018-03-02 12:00:00</td>\n    </tr>\n    <tr>\n      <th>27</th>\n      <td>2018-03-01 14:00:00</td>\n      <td>25.0</td>\n      <td>3.0</td>\n      <td>50.0</td>\n      <td>2.3</td>\n      <td>270.0</td>\n      <td>1.0</td>\n      <td>2018-03-02 15:00:00</td>\n    </tr>\n    <tr>\n      <th>28</th>\n      <td>2018-03-01 14:00:00</td>\n      <td>28.0</td>\n      <td>1.0</td>\n      <td>55.0</td>\n      <td>1.9</td>\n      <td>264.0</td>\n      <td>1.0</td>\n      <td>2018-03-02 18:00:00</td>\n    </tr>\n    <tr>\n      <th>29</th>\n      <td>2018-03-01 14:00:00</td>\n      <td>31.0</td>\n      <td>-1.0</td>\n      <td>70.0</td>\n      <td>1.6</td>\n      <td>68.0</td>\n      <td>1.0</td>\n      <td>2018-03-02 21:00:00</td>\n    </tr>\n    <tr>\n      <th>170</th>\n      <td>2018-03-02 14:00:00</td>\n      <td>10.0</td>\n      <td>-2.0</td>\n      <td>80.0</td>\n      <td>2.4</td>\n      <td>90.0</td>\n      <td>2.0</td>\n      <td>2018-03-03 00:00:00</td>\n    </tr>\n    <tr>\n      <th>171</th>\n      <td>2018-03-02 14:00:00</td>\n      <td>13.0</td>\n      <td>-2.0</td>\n      <td>75.0</td>\n      <td>2.9</td>\n      <td>125.0</td>\n      <td>2.0</td>\n      <td>2018-03-03 03:00:00</td>\n    </tr>\n  </tbody>\n</table>\n</div>"
     },
     "metadata": {},
     "execution_count": 8
    }
   ],
   "source": [
    "dangjin_fcst_14.head(10)\n"
   ]
  },
  {
   "cell_type": "code",
   "execution_count": 9,
   "metadata": {},
   "outputs": [],
   "source": [
    "#열 바꿈 forcast time 열을 forcast_time으로 바꿈\n",
    "dangjin_fcst_14 = dangjin_fcst_14[['Forecast_time', 'Temperature', 'Humidity', 'WindSpeed', 'WindDirection', 'Cloud']]\n",
    "ulsan_fcst_14 = ulsan_fcst_14[['Forecast_time', 'Temperature', 'Humidity', 'WindSpeed', 'WindDirection', 'Cloud']]"
   ]
  },
  {
   "cell_type": "code",
   "execution_count": 11,
   "metadata": {},
   "outputs": [
    {
     "output_type": "execute_result",
     "data": {
      "text/plain": [
       "         Forecast_time  Temperature  Humidity  WindSpeed  WindDirection  Cloud\n",
       "22 2018-03-02 00:00:00         -2.0      55.0        6.7          336.0    1.0\n",
       "23 2018-03-02 03:00:00         -4.0      55.0        5.5          339.0    1.0\n",
       "24 2018-03-02 06:00:00         -5.0      60.0        4.3          344.0    1.0\n",
       "25 2018-03-02 09:00:00         -2.0      55.0        2.0          345.0    1.0\n",
       "26 2018-03-02 12:00:00          1.0      45.0        0.8          256.0    1.0"
      ],
      "text/html": "<div>\n<style scoped>\n    .dataframe tbody tr th:only-of-type {\n        vertical-align: middle;\n    }\n\n    .dataframe tbody tr th {\n        vertical-align: top;\n    }\n\n    .dataframe thead th {\n        text-align: right;\n    }\n</style>\n<table border=\"1\" class=\"dataframe\">\n  <thead>\n    <tr style=\"text-align: right;\">\n      <th></th>\n      <th>Forecast_time</th>\n      <th>Temperature</th>\n      <th>Humidity</th>\n      <th>WindSpeed</th>\n      <th>WindDirection</th>\n      <th>Cloud</th>\n    </tr>\n  </thead>\n  <tbody>\n    <tr>\n      <th>22</th>\n      <td>2018-03-02 00:00:00</td>\n      <td>-2.0</td>\n      <td>55.0</td>\n      <td>6.7</td>\n      <td>336.0</td>\n      <td>1.0</td>\n    </tr>\n    <tr>\n      <th>23</th>\n      <td>2018-03-02 03:00:00</td>\n      <td>-4.0</td>\n      <td>55.0</td>\n      <td>5.5</td>\n      <td>339.0</td>\n      <td>1.0</td>\n    </tr>\n    <tr>\n      <th>24</th>\n      <td>2018-03-02 06:00:00</td>\n      <td>-5.0</td>\n      <td>60.0</td>\n      <td>4.3</td>\n      <td>344.0</td>\n      <td>1.0</td>\n    </tr>\n    <tr>\n      <th>25</th>\n      <td>2018-03-02 09:00:00</td>\n      <td>-2.0</td>\n      <td>55.0</td>\n      <td>2.0</td>\n      <td>345.0</td>\n      <td>1.0</td>\n    </tr>\n    <tr>\n      <th>26</th>\n      <td>2018-03-02 12:00:00</td>\n      <td>1.0</td>\n      <td>45.0</td>\n      <td>0.8</td>\n      <td>256.0</td>\n      <td>1.0</td>\n    </tr>\n  </tbody>\n</table>\n</div>"
     },
     "metadata": {},
     "execution_count": 11
    }
   ],
   "source": [
    "dangjin_fcst_14.head()"
   ]
  },
  {
   "cell_type": "code",
   "execution_count": 12,
   "metadata": {},
   "outputs": [],
   "source": [
    "#주기 3시간에서 1시간 단위로 생성\n",
    "dangjin_fcst_14_ = pd.DataFrame()\n",
    "dangjin_fcst_14_['Forecast_time'] = pd.date_range(start='2018-03-02 00:00:00', end='2021-03-01 23:00:00', freq='H')\n",
    "\n",
    "ulsan_fcst_14_ = pd.DataFrame()\n",
    "ulsan_fcst_14_['Forecast_time'] = pd.date_range(start='2018-03-02 00:00:00', end='2021-03-01 23:00:00', freq='H')"
   ]
  },
  {
   "cell_type": "code",
   "execution_count": 13,
   "metadata": {},
   "outputs": [],
   "source": [
    "#그냥 다 붙임\n",
    "dangjin_fcst_14_ = pd.merge(dangjin_fcst_14_, dangjin_fcst_14, on='Forecast_time', how='outer')\n",
    "ulsan_fcst_14_ = pd.merge(ulsan_fcst_14_, ulsan_fcst_14, on='Forecast_time', how='outer')"
   ]
  },
  {
   "cell_type": "code",
   "execution_count": 14,
   "metadata": {},
   "outputs": [
    {
     "output_type": "execute_result",
     "data": {
      "text/plain": [
       "        Forecast_time  Temperature  Humidity  WindSpeed  WindDirection  Cloud\n",
       "0 2018-03-02 00:00:00         -2.0      55.0        6.7          336.0    1.0\n",
       "1 2018-03-02 01:00:00          NaN       NaN        NaN            NaN    NaN\n",
       "2 2018-03-02 02:00:00          NaN       NaN        NaN            NaN    NaN\n",
       "3 2018-03-02 03:00:00         -4.0      55.0        5.5          339.0    1.0\n",
       "4 2018-03-02 04:00:00          NaN       NaN        NaN            NaN    NaN"
      ],
      "text/html": "<div>\n<style scoped>\n    .dataframe tbody tr th:only-of-type {\n        vertical-align: middle;\n    }\n\n    .dataframe tbody tr th {\n        vertical-align: top;\n    }\n\n    .dataframe thead th {\n        text-align: right;\n    }\n</style>\n<table border=\"1\" class=\"dataframe\">\n  <thead>\n    <tr style=\"text-align: right;\">\n      <th></th>\n      <th>Forecast_time</th>\n      <th>Temperature</th>\n      <th>Humidity</th>\n      <th>WindSpeed</th>\n      <th>WindDirection</th>\n      <th>Cloud</th>\n    </tr>\n  </thead>\n  <tbody>\n    <tr>\n      <th>0</th>\n      <td>2018-03-02 00:00:00</td>\n      <td>-2.0</td>\n      <td>55.0</td>\n      <td>6.7</td>\n      <td>336.0</td>\n      <td>1.0</td>\n    </tr>\n    <tr>\n      <th>1</th>\n      <td>2018-03-02 01:00:00</td>\n      <td>NaN</td>\n      <td>NaN</td>\n      <td>NaN</td>\n      <td>NaN</td>\n      <td>NaN</td>\n    </tr>\n    <tr>\n      <th>2</th>\n      <td>2018-03-02 02:00:00</td>\n      <td>NaN</td>\n      <td>NaN</td>\n      <td>NaN</td>\n      <td>NaN</td>\n      <td>NaN</td>\n    </tr>\n    <tr>\n      <th>3</th>\n      <td>2018-03-02 03:00:00</td>\n      <td>-4.0</td>\n      <td>55.0</td>\n      <td>5.5</td>\n      <td>339.0</td>\n      <td>1.0</td>\n    </tr>\n    <tr>\n      <th>4</th>\n      <td>2018-03-02 04:00:00</td>\n      <td>NaN</td>\n      <td>NaN</td>\n      <td>NaN</td>\n      <td>NaN</td>\n      <td>NaN</td>\n    </tr>\n  </tbody>\n</table>\n</div>"
     },
     "metadata": {},
     "execution_count": 14
    }
   ],
   "source": [
    "dangjin_fcst_14_.head()"
   ]
  },
  {
   "source": [
    "#선형보간 nan값 넣음선형보간 nan값 넣음\n",
    "dangjin_fcst = dangjin_fcst_14_.interpolate()\n",
    "ulsan_fcst = ulsan_fcst_14_.interpolate()\n",
    "dangjin_fcst = dangjin_fcst_14_.interpolate()\n",
    "ulsan_fcst = ulsan_fcst_14_.interpolate()"
   ],
   "cell_type": "code",
   "metadata": {},
   "execution_count": 15,
   "outputs": []
  },
  {
   "cell_type": "code",
   "execution_count": 16,
   "metadata": {},
   "outputs": [
    {
     "output_type": "execute_result",
     "data": {
      "text/plain": [
       "        Forecast_time  Temperature   Humidity  WindSpeed  WindDirection  Cloud\n",
       "0 2018-03-02 00:00:00    -2.000000  55.000000        6.7     336.000000    1.0\n",
       "1 2018-03-02 01:00:00    -2.666667  55.000000        6.3     337.000000    1.0\n",
       "2 2018-03-02 02:00:00    -3.333333  55.000000        5.9     338.000000    1.0\n",
       "3 2018-03-02 03:00:00    -4.000000  55.000000        5.5     339.000000    1.0\n",
       "4 2018-03-02 04:00:00    -4.333333  56.666667        5.1     340.666667    1.0"
      ],
      "text/html": "<div>\n<style scoped>\n    .dataframe tbody tr th:only-of-type {\n        vertical-align: middle;\n    }\n\n    .dataframe tbody tr th {\n        vertical-align: top;\n    }\n\n    .dataframe thead th {\n        text-align: right;\n    }\n</style>\n<table border=\"1\" class=\"dataframe\">\n  <thead>\n    <tr style=\"text-align: right;\">\n      <th></th>\n      <th>Forecast_time</th>\n      <th>Temperature</th>\n      <th>Humidity</th>\n      <th>WindSpeed</th>\n      <th>WindDirection</th>\n      <th>Cloud</th>\n    </tr>\n  </thead>\n  <tbody>\n    <tr>\n      <th>0</th>\n      <td>2018-03-02 00:00:00</td>\n      <td>-2.000000</td>\n      <td>55.000000</td>\n      <td>6.7</td>\n      <td>336.000000</td>\n      <td>1.0</td>\n    </tr>\n    <tr>\n      <th>1</th>\n      <td>2018-03-02 01:00:00</td>\n      <td>-2.666667</td>\n      <td>55.000000</td>\n      <td>6.3</td>\n      <td>337.000000</td>\n      <td>1.0</td>\n    </tr>\n    <tr>\n      <th>2</th>\n      <td>2018-03-02 02:00:00</td>\n      <td>-3.333333</td>\n      <td>55.000000</td>\n      <td>5.9</td>\n      <td>338.000000</td>\n      <td>1.0</td>\n    </tr>\n    <tr>\n      <th>3</th>\n      <td>2018-03-02 03:00:00</td>\n      <td>-4.000000</td>\n      <td>55.000000</td>\n      <td>5.5</td>\n      <td>339.000000</td>\n      <td>1.0</td>\n    </tr>\n    <tr>\n      <th>4</th>\n      <td>2018-03-02 04:00:00</td>\n      <td>-4.333333</td>\n      <td>56.666667</td>\n      <td>5.1</td>\n      <td>340.666667</td>\n      <td>1.0</td>\n    </tr>\n  </tbody>\n</table>\n</div>"
     },
     "metadata": {},
     "execution_count": 16
    }
   ],
   "source": [
    "dangjin_fcst.head()\n"
   ]
  },
  {
   "cell_type": "code",
   "execution_count": 17,
   "metadata": {},
   "outputs": [],
   "source": [
    "dangjin_fcst['Forecast_time'] = dangjin_fcst['Forecast_time'].astype(str)\n",
    "ulsan_fcst['Forecast_time'] = ulsan_fcst['Forecast_time'].astype(str)"
   ]
  },
  {
   "cell_type": "code",
   "execution_count": 20,
   "metadata": {},
   "outputs": [],
   "source": [
    "def train_datast(energy_df, fcst_df, target):\n",
    "    # 일기 예보 있는 날짜만 선택\n",
    "    # 24번째 행부터 가져옴 그리고 열의 순서로 인덱스 설정\n",
    "    energy = energy_df.loc[24:]\n",
    "    energy.index = range(energy.shape[0])\n",
    "    \n",
    "    # 발전량 데이터가 있는 날짜만 선택\n",
    "    # 모든 행 가져옴 그리고 열의 순서로 인덱스 설정\n",
    "    fcst = fcst_df.loc[:25608-1]\n",
    "    fcst.index = range(fcst.shape[0])\n",
    "    \n",
    "    # 발전량과 일기예보 연결\n",
    "    #axis=1로 옆으로 합치기.\n",
    "    concat_df = pd.concat([energy, fcst], axis=1)\n",
    "    \n",
    "    # 예보 시간 및 날짜 정보 feature로 추가\n",
    "    #시간, 날짜 띄기\n",
    "    concat_df['date'] = concat_df['Forecast_time'].str.split(' ').str[0]\n",
    "    concat_df['hour'] = concat_df['Forecast_time'].str.split(' ').str[1].str.split(':').str[0].astype(int)\n",
    "    \n",
    "    concat_df['year'] = concat_df['date'].str.split('-').str[0].astype(int)\n",
    "    concat_df['month'] = concat_df['date'].str.split('-').str[1].astype(int)\n",
    "    concat_df['day'] = concat_df['date'].str.split('-').str[2].astype(int)\n",
    "    \n",
    "    # 예보 시간, 날짜, 기상 예보 및 발전량 선택\n",
    "    feature_df = concat_df[['year', 'month', 'day', 'hour', 'Temperature', 'Humidity', 'WindSpeed', 'WindDirection', 'Cloud', target]]\n",
    "    \n",
    "    # 마지막 30일을 검증데이터셋으로 나머지를 학습 데이터셋으로 선택\n",
    "    # 열 가져옴 train, test 나눠서 가져옴\n",
    "    train_df = feature_df.iloc[:-24*30]\n",
    "    val_df = feature_df.iloc[-24*30:]\n",
    "    \n",
    "    # 발전량이 0인 데이터를 제외\n",
    "    \n",
    "    train_df = train_df[train_df[target]!=0]\n",
    "    # 행 가져오는   val_df = feature_df.iloc[-24*30:]\n",
    "        \n",
    "            # 발전량이 0인 데이터를 제외\n",
    "                \n",
    "                    train_df = train_df[train_df[target]!=0]\n",
    "                        # 행 가져오는\n",
    "                            train_x = train_df.loc[:, 'year':'Cloud'].to_numpy()\n",
    "                                train_y = train_df[target].to_numpy()\n",
    "                                    \n",
    "                                        val_x = val_df.loc[:, 'year':'Cloud'].to_numpy()\n",
    "                                        \n",
    "    train_x = train_df.loc[:, 'year':'Cloud'].to_numpy()\n",
    "    train_y = train_df[target].to_numpy()\n",
    "    \n",
    "    val_x = val_df.loc[:, 'year':'Cloud'].to_numpy()\n",
    "    val_y = val_df[target].to_numpy()\n",
    "    \n",
    "    return train_x, train_y, val_x, val_y"
   ]
  },
  {
   "cell_type": "code",
   "execution_count": null,
   "metadata": {},
   "outputs": [],
   "source": []
  }
 ]
}