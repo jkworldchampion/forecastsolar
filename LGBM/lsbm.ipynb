{
 "metadata": {
  "language_info": {
   "codemirror_mode": {
    "name": "ipython",
    "version": 3
   },
   "file_extension": ".py",
   "mimetype": "text/x-python",
   "name": "python",
   "nbconvert_exporter": "python",
   "pygments_lexer": "ipython3",
   "version": "3.7.4"
  },
  "orig_nbformat": 2,
  "kernelspec": {
   "name": "python374jvsc74a57bd098b0a9b7b4eaaa670588a142fd0a9b87eaafe866f1db4228be72b4211d12040f",
   "display_name": "Python 3.7.4 64-bit ('base': conda)"
  }
 },
 "nbformat": 4,
 "nbformat_minor": 2,
 "cells": [
  {
   "cell_type": "code",
   "execution_count": 2,
   "metadata": {},
   "outputs": [],
   "source": [
    "import pandas as pd\n",
    "import numpy as np\n",
    "import matplotlib.pyplot as plt\n",
    "import lightgbm as lgb"
   ]
  },
  {
   "cell_type": "code",
   "execution_count": 7,
   "metadata": {},
   "outputs": [],
   "source": [
    "energy = pd.read_csv('https://raw.githubusercontent.com/cjfghk5697/forecastsolar/main/csv%20file/energy.csv')\n",
    "dangjin_fcst = pd.read_csv('https://raw.githubusercontent.com/cjfghk5697/forecastsolar/main/csv%20file/dangjin_fcst_data.csv')\n",
    "ulsan_fcst = pd.read_csv('https://raw.githubusercontent.com/cjfghk5697/forecastsolar/main/csv%20file/ulsan_fcst_data.csv')"
   ]
  },
  {
   "cell_type": "code",
   "execution_count": 8,
   "metadata": {},
   "outputs": [],
   "source": [
    "dangjin_fcst['Forecast_time'] = pd.to_datetime(dangjin_fcst['Forecast time'])\n",
    "ulsan_fcst['Forecast_time'] = pd.to_datetime(ulsan_fcst['Forecast time'])"
   ]
  },
  {
   "cell_type": "code",
   "execution_count": 9,
   "metadata": {},
   "outputs": [],
   "source": [
    "dangjin_fcst_14 = dangjin_fcst[dangjin_fcst['Forecast_time'].dt.hour==14]\n",
    "ulsan_fcst_14 = ulsan_fcst[ulsan_fcst['Forecast_time'].dt.hour==14]"
   ]
  },
  {
   "cell_type": "code",
   "execution_count": 10,
   "metadata": {},
   "outputs": [],
   "source": [
    "dangjin_fcst_14 = dangjin_fcst_14[(dangjin_fcst_14['forecast']>=10)&(dangjin_fcst_14['forecast']<=33)]\n",
    "ulsan_fcst_14 = ulsan_fcst_14[(ulsan_fcst_14['forecast']>=10)&(ulsan_fcst_14['forecast']<=33)]"
   ]
  },
  {
   "cell_type": "code",
   "execution_count": 11,
   "metadata": {},
   "outputs": [
    {
     "output_type": "stream",
     "name": "stderr",
     "text": [
      "/opt/conda/lib/python3.7/site-packages/pandas/core/arrays/datetimelike.py:1111: PerformanceWarning: Adding/subtracting object-dtype array to DatetimeArray not vectorized\n  PerformanceWarning,\n"
     ]
    }
   ],
   "source": [
    "def to_date(x):\n",
    "    return pd.DateOffset(hours=x)\n",
    "\n",
    "dangjin_fcst_14['Forecast_time'] = dangjin_fcst_14['Forecast_time'] + dangjin_fcst_14['forecast'].map(to_date)\n",
    "ulsan_fcst_14['Forecast_time'] = ulsan_fcst_14['Forecast_time'] + ulsan_fcst_14['forecast'].map(to_date)"
   ]
  },
  {
   "cell_type": "code",
   "execution_count": 12,
   "metadata": {},
   "outputs": [
    {
     "output_type": "execute_result",
     "data": {
      "text/plain": [
       "           Forecast time  forecast  Temperature  Humidity  WindSpeed  \\\n",
       "22   2018-03-01 14:00:00      10.0         -2.0      55.0        6.7   \n",
       "23   2018-03-01 14:00:00      13.0         -4.0      55.0        5.5   \n",
       "24   2018-03-01 14:00:00      16.0         -5.0      60.0        4.3   \n",
       "25   2018-03-01 14:00:00      19.0         -2.0      55.0        2.0   \n",
       "26   2018-03-01 14:00:00      22.0          1.0      45.0        0.8   \n",
       "27   2018-03-01 14:00:00      25.0          3.0      50.0        2.3   \n",
       "28   2018-03-01 14:00:00      28.0          1.0      55.0        1.9   \n",
       "29   2018-03-01 14:00:00      31.0         -1.0      70.0        1.6   \n",
       "170  2018-03-02 14:00:00      10.0         -2.0      80.0        2.4   \n",
       "171  2018-03-02 14:00:00      13.0         -2.0      75.0        2.9   \n",
       "\n",
       "     WindDirection  Cloud       Forecast_time  \n",
       "22           336.0    1.0 2018-03-02 00:00:00  \n",
       "23           339.0    1.0 2018-03-02 03:00:00  \n",
       "24           344.0    1.0 2018-03-02 06:00:00  \n",
       "25           345.0    1.0 2018-03-02 09:00:00  \n",
       "26           256.0    1.0 2018-03-02 12:00:00  \n",
       "27           270.0    1.0 2018-03-02 15:00:00  \n",
       "28           264.0    1.0 2018-03-02 18:00:00  \n",
       "29            68.0    1.0 2018-03-02 21:00:00  \n",
       "170           90.0    2.0 2018-03-03 00:00:00  \n",
       "171          125.0    2.0 2018-03-03 03:00:00  "
      ],
      "text/html": "<div>\n<style scoped>\n    .dataframe tbody tr th:only-of-type {\n        vertical-align: middle;\n    }\n\n    .dataframe tbody tr th {\n        vertical-align: top;\n    }\n\n    .dataframe thead th {\n        text-align: right;\n    }\n</style>\n<table border=\"1\" class=\"dataframe\">\n  <thead>\n    <tr style=\"text-align: right;\">\n      <th></th>\n      <th>Forecast time</th>\n      <th>forecast</th>\n      <th>Temperature</th>\n      <th>Humidity</th>\n      <th>WindSpeed</th>\n      <th>WindDirection</th>\n      <th>Cloud</th>\n      <th>Forecast_time</th>\n    </tr>\n  </thead>\n  <tbody>\n    <tr>\n      <th>22</th>\n      <td>2018-03-01 14:00:00</td>\n      <td>10.0</td>\n      <td>-2.0</td>\n      <td>55.0</td>\n      <td>6.7</td>\n      <td>336.0</td>\n      <td>1.0</td>\n      <td>2018-03-02 00:00:00</td>\n    </tr>\n    <tr>\n      <th>23</th>\n      <td>2018-03-01 14:00:00</td>\n      <td>13.0</td>\n      <td>-4.0</td>\n      <td>55.0</td>\n      <td>5.5</td>\n      <td>339.0</td>\n      <td>1.0</td>\n      <td>2018-03-02 03:00:00</td>\n    </tr>\n    <tr>\n      <th>24</th>\n      <td>2018-03-01 14:00:00</td>\n      <td>16.0</td>\n      <td>-5.0</td>\n      <td>60.0</td>\n      <td>4.3</td>\n      <td>344.0</td>\n      <td>1.0</td>\n      <td>2018-03-02 06:00:00</td>\n    </tr>\n    <tr>\n      <th>25</th>\n      <td>2018-03-01 14:00:00</td>\n      <td>19.0</td>\n      <td>-2.0</td>\n      <td>55.0</td>\n      <td>2.0</td>\n      <td>345.0</td>\n      <td>1.0</td>\n      <td>2018-03-02 09:00:00</td>\n    </tr>\n    <tr>\n      <th>26</th>\n      <td>2018-03-01 14:00:00</td>\n      <td>22.0</td>\n      <td>1.0</td>\n      <td>45.0</td>\n      <td>0.8</td>\n      <td>256.0</td>\n      <td>1.0</td>\n      <td>2018-03-02 12:00:00</td>\n    </tr>\n    <tr>\n      <th>27</th>\n      <td>2018-03-01 14:00:00</td>\n      <td>25.0</td>\n      <td>3.0</td>\n      <td>50.0</td>\n      <td>2.3</td>\n      <td>270.0</td>\n      <td>1.0</td>\n      <td>2018-03-02 15:00:00</td>\n    </tr>\n    <tr>\n      <th>28</th>\n      <td>2018-03-01 14:00:00</td>\n      <td>28.0</td>\n      <td>1.0</td>\n      <td>55.0</td>\n      <td>1.9</td>\n      <td>264.0</td>\n      <td>1.0</td>\n      <td>2018-03-02 18:00:00</td>\n    </tr>\n    <tr>\n      <th>29</th>\n      <td>2018-03-01 14:00:00</td>\n      <td>31.0</td>\n      <td>-1.0</td>\n      <td>70.0</td>\n      <td>1.6</td>\n      <td>68.0</td>\n      <td>1.0</td>\n      <td>2018-03-02 21:00:00</td>\n    </tr>\n    <tr>\n      <th>170</th>\n      <td>2018-03-02 14:00:00</td>\n      <td>10.0</td>\n      <td>-2.0</td>\n      <td>80.0</td>\n      <td>2.4</td>\n      <td>90.0</td>\n      <td>2.0</td>\n      <td>2018-03-03 00:00:00</td>\n    </tr>\n    <tr>\n      <th>171</th>\n      <td>2018-03-02 14:00:00</td>\n      <td>13.0</td>\n      <td>-2.0</td>\n      <td>75.0</td>\n      <td>2.9</td>\n      <td>125.0</td>\n      <td>2.0</td>\n      <td>2018-03-03 03:00:00</td>\n    </tr>\n  </tbody>\n</table>\n</div>"
     },
     "metadata": {},
     "execution_count": 12
    }
   ],
   "source": [
    "dangjin_fcst_14.head(10)"
   ]
  },
  {
   "cell_type": "code",
   "execution_count": null,
   "metadata": {},
   "outputs": [],
   "source": []
  }
 ]
}