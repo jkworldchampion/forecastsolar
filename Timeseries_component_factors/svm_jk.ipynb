{
 "metadata": {
  "language_info": {
   "codemirror_mode": {
    "name": "ipython",
    "version": 3
   },
   "file_extension": ".py",
   "mimetype": "text/x-python",
   "name": "python",
   "nbconvert_exporter": "python",
   "pygments_lexer": "ipython3",
   "version": "3.8.5"
  },
  "orig_nbformat": 2,
  "kernelspec": {
   "name": "python385jvsc74a57bd098b0a9b7b4eaaa670588a142fd0a9b87eaafe866f1db4228be72b4211d12040f",
   "display_name": "Python 3.8.5 64-bit ('base': conda)"
  }
 },
 "nbformat": 4,
 "nbformat_minor": 2,
 "cells": [
  {
   "cell_type": "code",
   "execution_count": 1,
   "metadata": {},
   "outputs": [],
   "source": [
    "\n",
    "from sklearn.model_selection import train_test_split\n",
    "from sklearn.impute import SimpleImputer\n",
    "\n",
    "import sklearn.svm as svm\n",
    "import pandas as pd\n",
    "import numpy as np\n"
   ]
  },
  {
   "cell_type": "code",
   "execution_count": 2,
   "metadata": {},
   "outputs": [],
   "source": [
    "# 데이터 로드\n",
    "df = pd.read_csv('https://raw.githubusercontent.com/cjfghk5697/forecastsolar/main/csv%20file/dangjin_obs_data_energy.csv')\n",
    "df.drop_duplicates(inplace=True)\n",
    "\n",
    "imp = SimpleImputer()\n",
    "\n",
    "x= df.fillna(0).loc[:,'기온(°C)']\n",
    "y = df.fillna(0).loc[:,'dangjin']\n",
    "\n",
    "x = x.values.reshape(-1, 1) \n",
    "imp.fit_transform(x.reshape(-1, 1))\n",
    "\n",
    "y = y.values.reshape(-1, 1) \n",
    "imp.fit_transform(y.reshape(-1, 1))\n",
    "\n",
    "\n",
    "X_train, X_test, y_train, y_test = train_test_split(x,y, random_state=0)"
   ]
  },
  {
   "cell_type": "code",
   "execution_count": 3,
   "metadata": {},
   "outputs": [
    {
     "output_type": "stream",
     "name": "stdout",
     "text": [
      "훈련 세트 정확도: 0.55\n",
      "테스트 세트 정확도: 0.55\n"
     ]
    }
   ],
   "source": [
    "# 모델 학습\n",
    "model = svm.SVC(gamma=0.01).fit(X_train,np.ravel( y_train))\n",
    "# 평가\n",
    "print(\"훈련 세트 정확도: {:.2f}\".format(model.score(X_train, y_train)))\n",
    "print(\"테스트 세트 정확도: {:.2f}\".format(model.score(X_test, y_test)))"
   ]
  },
  {
   "cell_type": "code",
   "execution_count": null,
   "metadata": {},
   "outputs": [],
   "source": []
  }
 ]
}